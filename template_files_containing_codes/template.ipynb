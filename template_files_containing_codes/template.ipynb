{
  "cells": [
    {
      "cell_type": "raw",
      "metadata": {},
      "source": [
        "---\n",
        "title: Project 1\n",
        "subtitle: ' Put subtitle here'\n",
        "date: '2023-11-03'\n",
        "number-sections: true\n",
        "code-annotations: hover\n",
        "kind: Project\n",
        "Module: '2'\n",
        "categories:\n",
        "  - Module 2\n",
        "  - Project\n",
        "format:\n",
        "  html:\n",
        "    toc-depth: 3\n",
        "  docx:\n",
        "    toc: true\n",
        "    toc-depth: 3\n",
        "    fig-format: png\n",
        "---"
      ],
      "id": "9a7c7c4f"
    },
    {
      "cell_type": "markdown",
      "metadata": {},
      "source": [
        "# Packages needed\n"
      ],
      "id": "f2969922"
    },
    {
      "cell_type": "code",
      "metadata": {},
      "source": [
        "#| output: false\n",
        "using Dates\n",
        "using MultivariateStats\n",
        "using Plots\n",
        "using NCDatasets\n",
        "using StatsBase\n",
        "using Unitful\n",
        "using StatsPlots\n",
        "using GLM"
      ],
      "id": "c05b2d18",
      "execution_count": null,
      "outputs": []
    },
    {
      "cell_type": "markdown",
      "metadata": {},
      "source": [
        "# Reading the data in and checking dimensions\n"
      ],
      "id": "11ef30da"
    },
    {
      "cell_type": "code",
      "metadata": {},
      "source": [
        "observedprecip_ds= NCDataset(\"data/precip_data_Houston/precip_tx.nc\") #Storing predictand in observedprecip_ds\n",
        "\n",
        "display(observedprecip_ds) #seeing how many attributes it has, check how many dimensions it has\n",
        "obprecip_time=observedprecip_ds[\"time\"][:]\n",
        "obprecip_lon=observedprecip_ds[\"lon\"][:]\n",
        "obprecip_lat=observedprecip_ds[\"lat\"][:]\n",
        "obprecip=observedprecip_ds[\"precip\"][:,:,:]\n",
        "display(obprecip_lat)\n",
        "display(obprecip_lon)\n",
        "display(obprecip_time[1])\n",
        "\n",
        "obprecip_lat=reverse(obprecip_lat)\n",
        "obprecip=reverse(obprecip;dims=2)\n",
        "\n",
        "heatmap(obprecip_lon,obprecip_lat,obprecip[:,:,1];xlabel=\"Longitude\",ylabel=\"Latitude\",title=\"Precip on $(obprecip_time[1]))\")"
      ],
      "id": "b2158170",
      "execution_count": null,
      "outputs": []
    },
    {
      "cell_type": "code",
      "metadata": {},
      "source": [
        "start_date=Date(1990,1,1)\n",
        "end_date=Date(2020,12,31)\n",
        "time=Dates.Date.(obprecip_time)\n",
        "display(time)\n",
        "# display()\n",
        "time_indices = findall(start_date .<= time .<= end_date)\n",
        "display(time_indices)\n",
        "obprecip_subset=obprecip[:,:,time_indices]\n",
        "\n",
        "#display(obprecip_subset_time[1])\n",
        "\n",
        "heatmap(obprecip_lon,obprecip_lat,obprecip_subset[:,:,1];xlabel=\"Longitude\",ylabel=\"Latitude\",title=\"Precip on first day of 1990\")\n",
        "# obprecip_time_subset=obprecip_time[time_indices]\n",
        "\n",
        "# println(size(obprecip_subset))\n",
        "#we only need 30 years of data, 1990 to 2020, so we can make a new variable called y_precip and store the data of 1990 to 2020 here.\n",
        "#precip_y=\n",
        "#we need 20 years of data to train, we keep the remaining 10 years of data as test\n",
        "\n",
        "#Now the predictor variables\n",
        "#temp_ds= NCDataset()  #we combine the 30 years of data we downloaded\n",
        "#temp_lon=\n",
        "#temp_lat=\n",
        "#temp_time=\n",
        "\n",
        "\n",
        "#dewtemp_ds=\n",
        "#dewtemp_lon\n",
        "#dewtemp_lat\n",
        "#dewtemp_time          \n",
        "\n",
        "#check dimensions and everything\n",
        "#split to train and test\n"
      ],
      "id": "d3392c9e",
      "execution_count": null,
      "outputs": []
    },
    {
      "cell_type": "markdown",
      "metadata": {},
      "source": [
        "# Data merging\n"
      ],
      "id": "778f1417"
    },
    {
      "cell_type": "code",
      "metadata": {},
      "source": [
        "temp1990_ds= NCDataset(\"data/raw/2m_temperature_1990.nc\") \n",
        "temp1991_ds= NCDataset(\"data/raw/2m_temperature_1991.nc\") "
      ],
      "id": "e3345b08",
      "execution_count": null,
      "outputs": []
    },
    {
      "cell_type": "code",
      "metadata": {},
      "source": [
        "function open_mfdataset(files::Vector{String}, variable_name::AbstractString)\n",
        "\n",
        "    # Lists to store variable data, time data, and other coordinate data\n",
        "    var_data_list = []\n",
        "    time_data_list = []\n",
        "    coords_data_dict = Dict()\n",
        "\n",
        "    # Open the first file to get the coordinate names (excluding time and the main variable)\n",
        "    ds = Dataset(files[1])\n",
        "    dimnames = keys(ds.dim)\n",
        "    coord_names = setdiff(collect(dimnames), [variable_name, \"time\"])\n",
        "    close(ds)\n",
        "\n",
        "    # Initialize lists for each coordinate in coords_data_dict\n",
        "    for coord in coord_names\n",
        "        coords_data_dict[coord] = []\n",
        "    end\n",
        "\n",
        "    # Open each file, extract data, and store in lists\n",
        "    for file in files\n",
        "        ds = Dataset(file)\n",
        "\n",
        "        # Store variable and time data\n",
        "        push!(var_data_list, ds[variable_name][:])\n",
        "        push!(time_data_list, ds[\"time\"][:])\n",
        "\n",
        "        # Store other coordinate data\n",
        "        for coord in coord_names\n",
        "            push!(coords_data_dict[coord], ds[coord][:])\n",
        "        end\n",
        "\n",
        "        close(ds)\n",
        "    end\n",
        "\n",
        "    # Pair variable data with time data and sort by time\n",
        "    sorted_pairs = sort(collect(zip(time_data_list, var_data_list)); by=x -> x[1])\n",
        "    sorted_time_data = [pair[1] for pair in sorted_pairs]\n",
        "    sorted_var_data = [pair[2] for pair in sorted_pairs]\n",
        "\n",
        "    # Concatenate sorted data\n",
        "    concatenated_data_dict = Dict(\n",
        "        variable_name => vcat(sorted_var_data...), \"time\" => vcat(sorted_time_data...)\n",
        "    )\n",
        "\n",
        "    # Concatenate coordinate data and add to the dictionary\n",
        "    for coord in coord_names\n",
        "        concatenated_data_dict[coord] = vcat(coords_data_dict[coord]...)\n",
        "    end\n",
        "\n",
        "    return concatenated_data_dict\n",
        "end\n",
        "\n",
        "#Check for missing values in them\n",
        "#Check spatial and temporal dimensions, if it matches with your y dimensions\n",
        "\n",
        "\n",
        "#Split for test and train sets"
      ],
      "id": "eafe4a21",
      "execution_count": null,
      "outputs": []
    },
    {
      "cell_type": "markdown",
      "metadata": {},
      "source": [
        "# Data merge\n"
      ],
      "id": "3f514c6e"
    },
    {
      "cell_type": "code",
      "metadata": {},
      "source": [
        "using CDSAPI\n",
        "using NCDatasets\n",
        "using StatsBase: shuffle\n",
        "base_path=\"data/raw\"\n",
        "files = [\"2m_temperature_1990.nc\", \"2m_temperature_1991.nc\", \"2m_temperature_1992.nc\",\"2m_temperature_1993.nc\",\"2m_temperature_1994.nc\",\"2m_temperature_1995.nc\",\"2m_temperature_1996.nc\",\"2m_temperature_1997.nc\",\"2m_temperature_1998.nc\",\"2m_temperature_1999.nc\",\"2m_temperature_2000.nc\"]#,\"2m_temperature_2001.nc\",\"2m_temperature_2002.nc\",\"2m_temperature_2003.nc\",\"2m_temperature_2004.nc\",\"2m_temperature_2005.nc\",\"2m_temperature_2006.nc\",\"2m_temperature_2007.nc\",\"2m_temperature_2008.nc\",\"2m_temperature_2009.nc\",\"2m_temperature_2010.nc\",\"2m_temperature_2011.nc\",\"2m_temperature_2012.nc\",\"2m_temperature_2013.nc\",\"2m_temperature_2014.nc\",\"2m_temperature_2015.nc\",\"2m_temperature_2016.nc\",\"2m_temperature_2017.nc\",\"2m_temperature_2018.nc\",\"2m_temperature_2019.nc\",\"2m_temperature_2020.nc\"]\n",
        "file_paths = [joinpath(base_path, file) for file in files]\n",
        "data_dict = open_mfdataset(file_paths, \"t2m\")\n",
        "#Check for missing values in them\n",
        "#Check spatial and temporal dimensions, if it matches with your y dimensions\n",
        "\n",
        "\n",
        "#Split for test and train sets\n"
      ],
      "id": "ca38b005",
      "execution_count": null,
      "outputs": []
    },
    {
      "cell_type": "markdown",
      "metadata": {},
      "source": [
        "# finding daily temp from hourly data\n"
      ],
      "id": "6146f165"
    }
  ],
  "metadata": {
    "kernelspec": {
      "name": "julia-1.9",
      "language": "julia",
      "display_name": "Julia 1.9.3"
    }
  },
  "nbformat": 4,
  "nbformat_minor": 5
}